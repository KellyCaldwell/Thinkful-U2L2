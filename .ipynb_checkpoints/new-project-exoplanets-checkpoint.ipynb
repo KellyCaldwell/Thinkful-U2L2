{
 "cells": [
  {
   "cell_type": "markdown",
   "metadata": {},
   "source": [
    "## Exoplanet Data Report\n",
    "\n",
    "**By:** Kelly Caldwell"
   ]
  },
  {
   "cell_type": "markdown",
   "metadata": {},
   "source": [
    "https://www.kaggle.com/mrisdal/open-exoplanet-catalogue/data\n"
   ]
  },
  {
   "cell_type": "markdown",
   "metadata": {},
   "source": [
    "Intro\n",
    "\n",
    "Type intro here. Text to be added."
   ]
  },
  {
   "cell_type": "code",
   "execution_count": 2,
   "metadata": {},
   "outputs": [],
   "source": [
    "import pandas as pd\n",
    "import numpy as np\n",
    "from numpy import nan as NA\n",
    "\n",
    "import matplotlib.pyplot as plt\n",
    "%matplotlib inline\n",
    "\n",
    "import seaborn as sns\n",
    "\n",
    "import scipy as scipy\n",
    "from scipy.stats import ttest_ind"
   ]
  },
  {
   "cell_type": "code",
   "execution_count": 3,
   "metadata": {},
   "outputs": [],
   "source": [
    "df = pd.read_csv('oec.csv')"
   ]
  },
  {
   "cell_type": "code",
   "execution_count": 75,
   "metadata": {},
   "outputs": [
    {
     "data": {
      "text/plain": [
       "PlanetIdentifier         object\n",
       "TypeFlag                  int64\n",
       "PlanetaryMassJpt        float64\n",
       "RadiusJpt               float64\n",
       "PeriodDays              float64\n",
       "SemiMajorAxisAU         float64\n",
       "Eccentricity            float64\n",
       "PeriastronDeg           float64\n",
       "LongitudeDeg            float64\n",
       "AscendingNodeDeg        float64\n",
       "InclinationDeg          float64\n",
       "SurfaceTempK            float64\n",
       "AgeGyr                  float64\n",
       "DiscoveryMethod          object\n",
       "DiscoveryYear           float64\n",
       "LastUpdated              object\n",
       "RightAscension           object\n",
       "Declination              object\n",
       "DistFromSunParsec       float64\n",
       "HostStarMassSlrMass     float64\n",
       "HostStarRadiusSlrRad    float64\n",
       "HostStarMetallicity     float64\n",
       "HostStarTempK           float64\n",
       "HostStarAgeGyr          float64\n",
       "ListsPlanetIsOn          object\n",
       "dtype: object"
      ]
     },
     "execution_count": 75,
     "metadata": {},
     "output_type": "execute_result"
    }
   ],
   "source": [
    "df.dtypes"
   ]
  },
  {
   "cell_type": "code",
   "execution_count": 76,
   "metadata": {
    "scrolled": true
   },
   "outputs": [
    {
     "data": {
      "text/plain": [
       "PlanetIdentifier           0\n",
       "TypeFlag                   0\n",
       "PlanetaryMassJpt        2271\n",
       "RadiusJpt                810\n",
       "PeriodDays                99\n",
       "SemiMajorAxisAU         2178\n",
       "Eccentricity            2476\n",
       "PeriastronDeg           3256\n",
       "LongitudeDeg            3541\n",
       "AscendingNodeDeg        3538\n",
       "InclinationDeg          2919\n",
       "SurfaceTempK            2843\n",
       "AgeGyr                  3582\n",
       "DiscoveryMethod           63\n",
       "DiscoveryYear             10\n",
       "LastUpdated                8\n",
       "RightAscension            10\n",
       "Declination               10\n",
       "DistFromSunParsec       1451\n",
       "HostStarMassSlrMass      168\n",
       "HostStarRadiusSlrRad     321\n",
       "HostStarMetallicity     1075\n",
       "HostStarTempK            129\n",
       "HostStarAgeGyr          3067\n",
       "ListsPlanetIsOn            0\n",
       "dtype: int64"
      ]
     },
     "execution_count": 76,
     "metadata": {},
     "output_type": "execute_result"
    }
   ],
   "source": [
    "df.isnull().sum()"
   ]
  },
  {
   "cell_type": "code",
   "execution_count": 77,
   "metadata": {},
   "outputs": [],
   "source": [
    "df.drop(['PlanetaryMassJpt', 'SemiMajorAxisAU', 'Eccentricity', 'PeriastronDeg', 'LongitudeDeg', 'AscendingNodeDeg', 'InclinationDeg', 'SurfaceTempK', 'AgeGyr', 'HostStarAgeGyr'], axis=1, inplace=True)"
   ]
  },
  {
   "cell_type": "code",
   "execution_count": 78,
   "metadata": {
    "scrolled": true
   },
   "outputs": [
    {
     "data": {
      "text/plain": [
       "PlanetIdentifier           0\n",
       "TypeFlag                   0\n",
       "RadiusJpt                810\n",
       "PeriodDays                99\n",
       "DiscoveryMethod           63\n",
       "DiscoveryYear             10\n",
       "LastUpdated                8\n",
       "RightAscension            10\n",
       "Declination               10\n",
       "DistFromSunParsec       1451\n",
       "HostStarMassSlrMass      168\n",
       "HostStarRadiusSlrRad     321\n",
       "HostStarMetallicity     1075\n",
       "HostStarTempK            129\n",
       "ListsPlanetIsOn            0\n",
       "dtype: int64"
      ]
     },
     "execution_count": 78,
     "metadata": {},
     "output_type": "execute_result"
    }
   ],
   "source": [
    "df.isnull().sum()"
   ]
  },
  {
   "cell_type": "code",
   "execution_count": 79,
   "metadata": {},
   "outputs": [],
   "source": [
    "df['DiscoveryYear'] = df['DiscoveryYear'].fillna((df['DiscoveryYear'].median()))"
   ]
  },
  {
   "cell_type": "code",
   "execution_count": 80,
   "metadata": {},
   "outputs": [],
   "source": [
    "df['HostStarMassSlrMass'] = df['HostStarMassSlrMass'].fillna((df['HostStarMassSlrMass'].median()))"
   ]
  },
  {
   "cell_type": "code",
   "execution_count": 81,
   "metadata": {},
   "outputs": [],
   "source": [
    "df['HostStarTempK'] = df['HostStarTempK'].fillna((df['HostStarTempK'].median()))"
   ]
  },
  {
   "cell_type": "code",
   "execution_count": 82,
   "metadata": {
    "scrolled": true
   },
   "outputs": [
    {
     "data": {
      "text/plain": [
       "PlanetIdentifier           0\n",
       "TypeFlag                   0\n",
       "RadiusJpt                810\n",
       "PeriodDays                99\n",
       "DiscoveryMethod           63\n",
       "DiscoveryYear              0\n",
       "LastUpdated                8\n",
       "RightAscension            10\n",
       "Declination               10\n",
       "DistFromSunParsec       1451\n",
       "HostStarMassSlrMass        0\n",
       "HostStarRadiusSlrRad     321\n",
       "HostStarMetallicity     1075\n",
       "HostStarTempK              0\n",
       "ListsPlanetIsOn            0\n",
       "dtype: int64"
      ]
     },
     "execution_count": 82,
     "metadata": {},
     "output_type": "execute_result"
    }
   ],
   "source": [
    "df.isnull().sum()"
   ]
  },
  {
   "cell_type": "code",
   "execution_count": 83,
   "metadata": {},
   "outputs": [],
   "source": [
    "del df['LastUpdated']"
   ]
  },
  {
   "cell_type": "code",
   "execution_count": 84,
   "metadata": {},
   "outputs": [],
   "source": [
    "del df['Declination']"
   ]
  },
  {
   "cell_type": "code",
   "execution_count": 85,
   "metadata": {},
   "outputs": [],
   "source": [
    "del df['RightAscension']"
   ]
  },
  {
   "cell_type": "code",
   "execution_count": 86,
   "metadata": {},
   "outputs": [
    {
     "data": {
      "text/plain": [
       "PlanetIdentifier           0\n",
       "TypeFlag                   0\n",
       "RadiusJpt                810\n",
       "PeriodDays                99\n",
       "DiscoveryMethod           63\n",
       "DiscoveryYear              0\n",
       "DistFromSunParsec       1451\n",
       "HostStarMassSlrMass        0\n",
       "HostStarRadiusSlrRad     321\n",
       "HostStarMetallicity     1075\n",
       "HostStarTempK              0\n",
       "ListsPlanetIsOn            0\n",
       "dtype: int64"
      ]
     },
     "execution_count": 86,
     "metadata": {},
     "output_type": "execute_result"
    }
   ],
   "source": [
    "df.isnull().sum()"
   ]
  },
  {
   "cell_type": "code",
   "execution_count": null,
   "metadata": {},
   "outputs": [],
   "source": []
  },
  {
   "cell_type": "code",
   "execution_count": 87,
   "metadata": {},
   "outputs": [
    {
     "data": {
      "text/html": [
       "<div>\n",
       "<style scoped>\n",
       "    .dataframe tbody tr th:only-of-type {\n",
       "        vertical-align: middle;\n",
       "    }\n",
       "\n",
       "    .dataframe tbody tr th {\n",
       "        vertical-align: top;\n",
       "    }\n",
       "\n",
       "    .dataframe thead th {\n",
       "        text-align: right;\n",
       "    }\n",
       "</style>\n",
       "<table border=\"1\" class=\"dataframe\">\n",
       "  <thead>\n",
       "    <tr style=\"text-align: right;\">\n",
       "      <th></th>\n",
       "      <th>PlanetIdentifier</th>\n",
       "      <th>TypeFlag</th>\n",
       "      <th>RadiusJpt</th>\n",
       "      <th>PeriodDays</th>\n",
       "      <th>DiscoveryMethod</th>\n",
       "      <th>DiscoveryYear</th>\n",
       "      <th>DistFromSunParsec</th>\n",
       "      <th>HostStarMassSlrMass</th>\n",
       "      <th>HostStarRadiusSlrRad</th>\n",
       "      <th>HostStarMetallicity</th>\n",
       "      <th>HostStarTempK</th>\n",
       "      <th>ListsPlanetIsOn</th>\n",
       "    </tr>\n",
       "  </thead>\n",
       "  <tbody>\n",
       "    <tr>\n",
       "      <th>0</th>\n",
       "      <td>HD 143761 b</td>\n",
       "      <td>0</td>\n",
       "      <td>NaN</td>\n",
       "      <td>39.845800</td>\n",
       "      <td>RV</td>\n",
       "      <td>2016.0</td>\n",
       "      <td>17.236</td>\n",
       "      <td>0.889</td>\n",
       "      <td>1.362</td>\n",
       "      <td>-0.31</td>\n",
       "      <td>5627.0</td>\n",
       "      <td>Confirmed planets</td>\n",
       "    </tr>\n",
       "    <tr>\n",
       "      <th>1</th>\n",
       "      <td>HD 143761 c</td>\n",
       "      <td>0</td>\n",
       "      <td>NaN</td>\n",
       "      <td>102.540000</td>\n",
       "      <td>RV</td>\n",
       "      <td>2016.0</td>\n",
       "      <td>17.236</td>\n",
       "      <td>0.889</td>\n",
       "      <td>1.362</td>\n",
       "      <td>-0.31</td>\n",
       "      <td>5627.0</td>\n",
       "      <td>Confirmed planets</td>\n",
       "    </tr>\n",
       "    <tr>\n",
       "      <th>2</th>\n",
       "      <td>KOI-1843.03</td>\n",
       "      <td>0</td>\n",
       "      <td>0.054</td>\n",
       "      <td>0.176891</td>\n",
       "      <td>transit</td>\n",
       "      <td>2012.0</td>\n",
       "      <td>NaN</td>\n",
       "      <td>0.460</td>\n",
       "      <td>0.450</td>\n",
       "      <td>0.00</td>\n",
       "      <td>3584.0</td>\n",
       "      <td>Controversial</td>\n",
       "    </tr>\n",
       "    <tr>\n",
       "      <th>3</th>\n",
       "      <td>KOI-1843.01</td>\n",
       "      <td>0</td>\n",
       "      <td>0.114</td>\n",
       "      <td>4.194525</td>\n",
       "      <td>transit</td>\n",
       "      <td>2014.0</td>\n",
       "      <td>NaN</td>\n",
       "      <td>0.460</td>\n",
       "      <td>0.450</td>\n",
       "      <td>0.00</td>\n",
       "      <td>3584.0</td>\n",
       "      <td>Controversial</td>\n",
       "    </tr>\n",
       "    <tr>\n",
       "      <th>4</th>\n",
       "      <td>KOI-1843.02</td>\n",
       "      <td>0</td>\n",
       "      <td>0.071</td>\n",
       "      <td>6.356006</td>\n",
       "      <td>transit</td>\n",
       "      <td>2014.0</td>\n",
       "      <td>NaN</td>\n",
       "      <td>0.460</td>\n",
       "      <td>0.450</td>\n",
       "      <td>0.00</td>\n",
       "      <td>3584.0</td>\n",
       "      <td>Controversial</td>\n",
       "    </tr>\n",
       "  </tbody>\n",
       "</table>\n",
       "</div>"
      ],
      "text/plain": [
       "  PlanetIdentifier  TypeFlag  RadiusJpt  PeriodDays DiscoveryMethod  \\\n",
       "0      HD 143761 b         0        NaN   39.845800              RV   \n",
       "1      HD 143761 c         0        NaN  102.540000              RV   \n",
       "2      KOI-1843.03         0      0.054    0.176891         transit   \n",
       "3      KOI-1843.01         0      0.114    4.194525         transit   \n",
       "4      KOI-1843.02         0      0.071    6.356006         transit   \n",
       "\n",
       "   DiscoveryYear  DistFromSunParsec  HostStarMassSlrMass  \\\n",
       "0         2016.0             17.236                0.889   \n",
       "1         2016.0             17.236                0.889   \n",
       "2         2012.0                NaN                0.460   \n",
       "3         2014.0                NaN                0.460   \n",
       "4         2014.0                NaN                0.460   \n",
       "\n",
       "   HostStarRadiusSlrRad  HostStarMetallicity  HostStarTempK    ListsPlanetIsOn  \n",
       "0                 1.362                -0.31         5627.0  Confirmed planets  \n",
       "1                 1.362                -0.31         5627.0  Confirmed planets  \n",
       "2                 0.450                 0.00         3584.0      Controversial  \n",
       "3                 0.450                 0.00         3584.0      Controversial  \n",
       "4                 0.450                 0.00         3584.0      Controversial  "
      ]
     },
     "execution_count": 87,
     "metadata": {},
     "output_type": "execute_result"
    }
   ],
   "source": [
    "df.head()"
   ]
  },
  {
   "cell_type": "code",
   "execution_count": 88,
   "metadata": {},
   "outputs": [
    {
     "data": {
      "text/html": [
       "<div>\n",
       "<style scoped>\n",
       "    .dataframe tbody tr th:only-of-type {\n",
       "        vertical-align: middle;\n",
       "    }\n",
       "\n",
       "    .dataframe tbody tr th {\n",
       "        vertical-align: top;\n",
       "    }\n",
       "\n",
       "    .dataframe thead th {\n",
       "        text-align: right;\n",
       "    }\n",
       "</style>\n",
       "<table border=\"1\" class=\"dataframe\">\n",
       "  <thead>\n",
       "    <tr style=\"text-align: right;\">\n",
       "      <th></th>\n",
       "      <th>TypeFlag</th>\n",
       "      <th>RadiusJpt</th>\n",
       "      <th>PeriodDays</th>\n",
       "      <th>DiscoveryYear</th>\n",
       "      <th>DistFromSunParsec</th>\n",
       "      <th>HostStarMassSlrMass</th>\n",
       "      <th>HostStarRadiusSlrRad</th>\n",
       "      <th>HostStarMetallicity</th>\n",
       "      <th>HostStarTempK</th>\n",
       "    </tr>\n",
       "  </thead>\n",
       "  <tbody>\n",
       "    <tr>\n",
       "      <th>count</th>\n",
       "      <td>3584.000000</td>\n",
       "      <td>2774.000000</td>\n",
       "      <td>3485.000000</td>\n",
       "      <td>3584.000000</td>\n",
       "      <td>2133.000000</td>\n",
       "      <td>3584.000000</td>\n",
       "      <td>3263.000000</td>\n",
       "      <td>2509.000000</td>\n",
       "      <td>3584.000000</td>\n",
       "    </tr>\n",
       "    <tr>\n",
       "      <th>mean</th>\n",
       "      <td>0.097656</td>\n",
       "      <td>0.371190</td>\n",
       "      <td>537.248317</td>\n",
       "      <td>2013.302455</td>\n",
       "      <td>554.912346</td>\n",
       "      <td>0.982933</td>\n",
       "      <td>1.495629</td>\n",
       "      <td>0.016228</td>\n",
       "      <td>5510.139118</td>\n",
       "    </tr>\n",
       "    <tr>\n",
       "      <th>std</th>\n",
       "      <td>0.424554</td>\n",
       "      <td>0.416871</td>\n",
       "      <td>7509.660676</td>\n",
       "      <td>6.151183</td>\n",
       "      <td>847.566803</td>\n",
       "      <td>0.311496</td>\n",
       "      <td>3.071298</td>\n",
       "      <td>0.193495</td>\n",
       "      <td>1182.636414</td>\n",
       "    </tr>\n",
       "    <tr>\n",
       "      <th>min</th>\n",
       "      <td>0.000000</td>\n",
       "      <td>0.002300</td>\n",
       "      <td>0.090706</td>\n",
       "      <td>1781.000000</td>\n",
       "      <td>1.295000</td>\n",
       "      <td>0.012000</td>\n",
       "      <td>0.000014</td>\n",
       "      <td>-2.090000</td>\n",
       "      <td>540.000000</td>\n",
       "    </tr>\n",
       "    <tr>\n",
       "      <th>25%</th>\n",
       "      <td>0.000000</td>\n",
       "      <td>0.141062</td>\n",
       "      <td>4.757940</td>\n",
       "      <td>2013.000000</td>\n",
       "      <td>60.000000</td>\n",
       "      <td>0.840000</td>\n",
       "      <td>0.810000</td>\n",
       "      <td>-0.050000</td>\n",
       "      <td>5147.000000</td>\n",
       "    </tr>\n",
       "    <tr>\n",
       "      <th>50%</th>\n",
       "      <td>0.000000</td>\n",
       "      <td>0.209600</td>\n",
       "      <td>13.071630</td>\n",
       "      <td>2014.000000</td>\n",
       "      <td>333.000000</td>\n",
       "      <td>0.977000</td>\n",
       "      <td>1.000000</td>\n",
       "      <td>0.020000</td>\n",
       "      <td>5634.000000</td>\n",
       "    </tr>\n",
       "    <tr>\n",
       "      <th>75%</th>\n",
       "      <td>0.000000</td>\n",
       "      <td>0.321518</td>\n",
       "      <td>49.514000</td>\n",
       "      <td>2016.000000</td>\n",
       "      <td>773.130000</td>\n",
       "      <td>1.100000</td>\n",
       "      <td>1.250000</td>\n",
       "      <td>0.100000</td>\n",
       "      <td>5938.000000</td>\n",
       "    </tr>\n",
       "    <tr>\n",
       "      <th>max</th>\n",
       "      <td>3.000000</td>\n",
       "      <td>6.000000</td>\n",
       "      <td>320000.000000</td>\n",
       "      <td>2017.000000</td>\n",
       "      <td>8500.000000</td>\n",
       "      <td>4.500000</td>\n",
       "      <td>51.100000</td>\n",
       "      <td>0.560000</td>\n",
       "      <td>29300.000000</td>\n",
       "    </tr>\n",
       "  </tbody>\n",
       "</table>\n",
       "</div>"
      ],
      "text/plain": [
       "          TypeFlag    RadiusJpt     PeriodDays  DiscoveryYear  \\\n",
       "count  3584.000000  2774.000000    3485.000000    3584.000000   \n",
       "mean      0.097656     0.371190     537.248317    2013.302455   \n",
       "std       0.424554     0.416871    7509.660676       6.151183   \n",
       "min       0.000000     0.002300       0.090706    1781.000000   \n",
       "25%       0.000000     0.141062       4.757940    2013.000000   \n",
       "50%       0.000000     0.209600      13.071630    2014.000000   \n",
       "75%       0.000000     0.321518      49.514000    2016.000000   \n",
       "max       3.000000     6.000000  320000.000000    2017.000000   \n",
       "\n",
       "       DistFromSunParsec  HostStarMassSlrMass  HostStarRadiusSlrRad  \\\n",
       "count        2133.000000          3584.000000           3263.000000   \n",
       "mean          554.912346             0.982933              1.495629   \n",
       "std           847.566803             0.311496              3.071298   \n",
       "min             1.295000             0.012000              0.000014   \n",
       "25%            60.000000             0.840000              0.810000   \n",
       "50%           333.000000             0.977000              1.000000   \n",
       "75%           773.130000             1.100000              1.250000   \n",
       "max          8500.000000             4.500000             51.100000   \n",
       "\n",
       "       HostStarMetallicity  HostStarTempK  \n",
       "count          2509.000000    3584.000000  \n",
       "mean              0.016228    5510.139118  \n",
       "std               0.193495    1182.636414  \n",
       "min              -2.090000     540.000000  \n",
       "25%              -0.050000    5147.000000  \n",
       "50%               0.020000    5634.000000  \n",
       "75%               0.100000    5938.000000  \n",
       "max               0.560000   29300.000000  "
      ]
     },
     "execution_count": 88,
     "metadata": {},
     "output_type": "execute_result"
    }
   ],
   "source": [
    "df.describe()"
   ]
  },
  {
   "cell_type": "code",
   "execution_count": 89,
   "metadata": {},
   "outputs": [
    {
     "data": {
      "text/plain": [
       "(3584, 12)"
      ]
     },
     "execution_count": 89,
     "metadata": {},
     "output_type": "execute_result"
    }
   ],
   "source": [
    "df.shape"
   ]
  },
  {
   "cell_type": "code",
   "execution_count": 90,
   "metadata": {},
   "outputs": [
    {
     "data": {
      "image/png": "[encoded data removed]",
      "text/plain": [
       "<matplotlib.figure.Figure at 0x10b6a64e0>"
      ]
     },
     "metadata": {},
     "output_type": "display_data"
    }
   ],
   "source": [
    "corrmat = df.corr()\n",
    "fig, ax = plt.subplots(figsize=(15, 10))\n",
    "sns.heatmap(corrmat, vmax =1.0, vmin=-1.0, annot=True)\n",
    "plt.show()"
   ]
  },
  {
   "cell_type": "code",
   "execution_count": 4,
   "metadata": {},
   "outputs": [
    {
     "data": {
      "image/png": "[encoded data removed]",
      "text/plain": [
       "<matplotlib.figure.Figure at 0x10b6d04e0>"
      ]
     },
     "metadata": {},
     "output_type": "display_data"
    }
   ],
   "source": [
    "sns.set_style(\"darkgrid\")\n",
    "fig, ax = plt.subplots(figsize=(20, 10))\n",
    "sns.countplot(x=df['DiscoveryYear'], data=df['DiscoveryYear'], palette=\"rainbow\")\n",
    "plt.xlabel('Discovery Year')\n",
    "plt.ylabel('Count')\n",
    "plt.title('Confirmed and Candidate Exoplanet Discoveries By Year')\n",
    "plt.show()"
   ]
  },
  {
   "cell_type": "code",
   "execution_count": 110,
   "metadata": {},
   "outputs": [
    {
     "data": {
      "text/plain": [
       "Index(['PlanetIdentifier', 'TypeFlag', 'RadiusJpt', 'PeriodDays',\n",
       "       'DiscoveryMethod', 'DiscoveryYear', 'DistFromSunParsec',\n",
       "       'HostStarMassSlrMass', 'HostStarRadiusSlrRad', 'HostStarMetallicity',\n",
       "       'HostStarTempK', 'ListsPlanetIsOn', 'orbitspeed'],\n",
       "      dtype='object')"
      ]
     },
     "execution_count": 110,
     "metadata": {},
     "output_type": "execute_result"
    }
   ],
   "source": [
    "df.columns"
   ]
  },
  {
   "cell_type": "code",
   "execution_count": null,
   "metadata": {},
   "outputs": [],
   "source": []
  }
 ],
 "metadata": {
  "kernelspec": {
   "display_name": "Python 3",
   "language": "python",
   "name": "python3"
  },
  "language_info": {
   "codemirror_mode": {
    "name": "ipython",
    "version": 3
   },
   "file_extension": ".py",
   "mimetype": "text/x-python",
   "name": "python",
   "nbconvert_exporter": "python",
   "pygments_lexer": "ipython3",
   "version": "3.6.3"
  }
 },
 "nbformat": 4,
 "nbformat_minor": 2
}
