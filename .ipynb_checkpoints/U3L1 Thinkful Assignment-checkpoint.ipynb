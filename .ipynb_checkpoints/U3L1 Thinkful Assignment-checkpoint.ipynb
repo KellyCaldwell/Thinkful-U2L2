{
 "cells": [
  {
   "cell_type": "markdown",
   "metadata": {},
   "source": [
    "# Describing Data Assignment"
   ]
  },
  {
   "cell_type": "markdown",
   "metadata": {},
   "source": [
    "__Greg was 14, Marcia was 12, Peter was 11, Jan was 10, Bobby was 8, and Cindy was 6 when they started playing the Brady kids on The Brady Bunch. Cousin Oliver was 8 years old when he joined the show. What are the mean, median, and mode of the kids' ages when they first appeared on the show? What are the variance, standard deviation, and standard error?__\n",
    "\n",
    "A:\n",
    "\n",
    "_Calculations by hand:_\n",
    " \n",
    ">x = sum(x) / n <br>\n",
    ">x = 69 / 7 <br>\n",
    ">x = 9.86\n",
    "\n",
    ">M = {(n+1) /2} <br>\n",
    ">M = {(7+1)/2} <br>\n",
    ">M = 10\n",
    "\n",
    ">Mo = 8\n",
    "\n",
    ">v = sum{(x – mean) ²} / (n – 1) <br>\n",
    ">v = [{(14-9.86) ²} + {(12-9.86) ²} + {(11-9.86) ²} + {(10-9.86) ²} + {(8-9.86) ²} +{(8-9.86) ²} + {(6-9.86) ²}] / (7-1) <br>\n",
    ">v= (17.14 + 4.58 + 1.30 + .02 + 3.46 +3.46 + 14.90) / 6 <br>\n",
    ">v = 44.86 / 6 <br>\n",
    ">v = 7.48\n",
    "\n",
    ">σ= √7.48 <br>\n",
    ">σ = 2.73\n",
    "\n",
    ">SE x̅  = σ / √n <br>\n",
    ">SE x̅  = 2.73 / √7 <br>\n",
    ">SE x̅  = 2.73 / 2.65 <br>\n",
    ">SE x̅  = 1.03\n",
    "\n",
    "\n",
    "_Calculations with Python:_\n",
    "\n",
    "\n",
    ">df = pd.DataFrame() <br>\n",
    ">df[‘age’] = [6, 8, 8, 10, 11, 12, 14] <br>\n",
    ">sum(df[‘age’]) / len(df[‘age’]) <br>\n",
    ">9.857142857142858\n",
    "\n",
    ">statistics.median(df['age']) <br>\n",
    ">10\n",
    "\n",
    ">statistics.mode(df['age']) <br>\n",
    ">8\n",
    "\n",
    ">df['age'].var() <br>\n",
    ">7.4761904761904754\n",
    "\n",
    ">np.std(df['age'], ddof=1) <br>\n",
    ">2.7342623276105891\n",
    "\n",
    ">np.std(df['age'], ddof=1) / np.sqrt(len(df['age'])) <br>\n",
    ">1.0334540197243192\n"
   ]
  },
  {
   "cell_type": "markdown",
   "metadata": {},
   "source": [
    "__Using these estimates, if you had to choose only one estimate of central tendency and one estimate of variance to describe the data, which would you pick and why?__ \n",
    "\n",
    "A:\n",
    "\n",
    ">Mean and standard deviation: The expected value, or average of the children’s ages, is more of an interesting description than the mode or median. Also, this is a small data set. I can easily see that there aren’t any extreme values that would tamper with the result. I would also pick standard deviation over variance and standard error. This is because standard deviation is expressed in the problem’s original units. Since we aren’t doing any further calculations, that is a more useful figure. Additionally, in this problem, the sample is also the total population; consequently, the standard error isn’t helpful."
   ]
  },
  {
   "cell_type": "markdown",
   "metadata": {},
   "source": [
    "__Next, Cindy has a birthday. Update your estimates- what changed, and what didn't?__\n",
    "\n",
    "_Calculations with Python:_\n",
    "\n",
    "> df['age'] = [7, 8, 8, 10, 11, 12, 14]<br>\n",
    "> sum(df['age']) / len(df['age'])<br>\n",
    "> 10.0\n",
    "\n",
    ">statistics.median(df['age'])<br>\n",
    ">10\n",
    "\n",
    ">statistics.mode(df['age'])<br>\n",
    ">8\n",
    "\n",
    ">df['age'].var()<br>\n",
    ">6.333333333333333\n",
    "\n",
    ">np.std(df['age'], ddof=1)<br>\n",
    ">2.5166114784235831\n",
    "\n",
    ">np.std(df['age'], ddof=1) / np.sqrt(len(df['age']))<br>\n",
    ">0.95118973121134176\n",
    "\n",
    "\n",
    "A:\n",
    "\n",
    ">The mean, variance, standard deviation, and standard of error all changed."
   ]
  },
  {
   "cell_type": "markdown",
   "metadata": {},
   "source": [
    "__Nobody likes Cousin Oliver. Maybe the network should have used an even younger actor. Replace Cousin Oliver with 1-year-old Jessica, then recalculate again. Does this change your choice of central tendency or variance estimation methods?__\n",
    "\n",
    "_Calculations with Python:_\n",
    "\n",
    ">df['age'] = [7, 1, 8, 10, 11, 12,14] <br>\n",
    ">sum(df['age']) / len(df['age']) <br>\n",
    ">9.0\n",
    "\n",
    ">statistics.median(df['age']) <br>\n",
    ">10\n",
    "\n",
    ">statistics.mode(df['age']) <br>\n",
    ">statistics.StatisticsError: no unique mode; found 7 equally common values\n",
    "\n",
    ">df['age'].var() <br>\n",
    ">18.0\n",
    "\n",
    ">np.std(df['age'], ddof=1) <br>\n",
    ">4.2426406871192848\n",
    "\n",
    ">np.std(df['age'], ddof=1) / np.sqrt(len(df['age'])) <br>\n",
    ">1.6035674514745462\n",
    "\n",
    "A:\n",
    "\n",
    ">This would change my central tendency choice to 'median' since we now have an extreme value.\n"
   ]
  },
  {
   "cell_type": "markdown",
   "metadata": {},
   "source": [
    "__On the 50th anniversary of The Brady Bunch, four different magazines asked their readers whether they were fans of the show. The answers were: TV Guide 20% fans, Entertainment Weekly 23% fans, Pop Culture Today 17% fans, SciPhi Phanatic 5% fans. Based on these numbers, what percentage of adult Americans would you estimate were Brady Bunch fans on the 50th anniversary of the show?__\n",
    "\n",
    "_Calculations with Python:_\n",
    "\n",
    ">fans = pd.DataFrame()<br>\n",
    ">fans['percentages'] = [.20, .23, .17, .05]<br>\n",
    ">np.mean(df(['percentages'])<br>\n",
    ">0.1625\n",
    "\n",
    ">np.std(df['age'], ddof=1) / np.sqrt(len(df['age']))<br>\n",
    ">1.6035674514745462\n",
    "\n",
    "A:\n",
    "\n",
    ">Given this information, I would estimate that between 14.65% and 17.85% of adult Americans were fans during the 50th anniversary of the show.\n",
    "\n"
   ]
  },
  {
   "cell_type": "code",
   "execution_count": null,
   "metadata": {},
   "outputs": [],
   "source": []
  }
 ],
 "metadata": {
  "kernelspec": {
   "display_name": "Python 3",
   "language": "python",
   "name": "python3"
  },
  "language_info": {
   "codemirror_mode": {
    "name": "ipython",
    "version": 3
   },
   "file_extension": ".py",
   "mimetype": "text/x-python",
   "name": "python",
   "nbconvert_exporter": "python",
   "pygments_lexer": "ipython3",
   "version": "3.6.3"
  }
 },
 "nbformat": 4,
 "nbformat_minor": 2
}
