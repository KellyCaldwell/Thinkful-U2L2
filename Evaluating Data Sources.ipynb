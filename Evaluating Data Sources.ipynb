{
 "cells": [
  {
   "cell_type": "markdown",
   "metadata": {},
   "source": [
    "# Evaluating Data Sources\n",
    "\n",
    "### In each of the scenarios, find possible shortcomings of the data sources to answer the given question. What could be done to either adjust the analysis or reframe the question so that you can answer it accurately?"
   ]
  },
  {
   "cell_type": "markdown",
   "metadata": {},
   "source": [
    "1.) Data Source: Amsterdam availability data scraped from AirBnB on December 24th. Question: What are the popular neighborhoods in Amsterdam?\n",
    "\n",
    "> A: Given the specificity of the given data, a more appropriate question would be: What are popular neighborhoods in Amsterdam for travelers using AirBnB on Dec 24th.  I would not want to adjust the data to fit the original question due to its ambiguity. For example, what is meant by “popular”? "
   ]
  },
  {
   "cell_type": "markdown",
   "metadata": {},
   "source": [
    "2.) Data Source: Mental health services use on September 12, 2001 in San Francisco, CA and New York City, NY. Question: How do patterns of mental health service use vary between cities?\n",
    "\n",
    "> A: Again, given the incompleteness, I would rather fix the question than try to analyze inappropriate data. With the provided information, I would rather ask: \n",
    "\n",
    "> How did mental health services used in NYC compare to mental health services used in San Francisco on the day after the September 11th terrorist attacks? \n",
    "\n",
    "> It would be important to identify the different types of mental health professionals and the different types of mental health services. Do the data represent a perfect and comparable random sample in each city? If not, it would be wise to adjust the data or question further."
   ]
  },
  {
   "cell_type": "markdown",
   "metadata": {},
   "source": [
    "3.) Data Source: Armenian Pub Survey  (https://www.kaggle.com/erikhambardzumyan/pubs/data). Question: What are the most common reasons Armenians visit local pubs?\n",
    "\n",
    "> A: This does survey people living in Armenia that have familiarity with the local pubs, but it is largely limited to students from the university.  Additionally, it does not ask for their nationality. The university could do another survey with the local Armenian public and merge the data while removing surveys from those without citizenship."
   ]
  },
  {
   "cell_type": "code",
   "execution_count": null,
   "metadata": {},
   "outputs": [],
   "source": []
  }
 ],
 "metadata": {
  "kernelspec": {
   "display_name": "Python 3",
   "language": "python",
   "name": "python3"
  },
  "language_info": {
   "codemirror_mode": {
    "name": "ipython",
    "version": 3
   },
   "file_extension": ".py",
   "mimetype": "text/x-python",
   "name": "python",
   "nbconvert_exporter": "python",
   "pygments_lexer": "ipython3",
   "version": "3.6.3"
  }
 },
 "nbformat": 4,
 "nbformat_minor": 2
}
